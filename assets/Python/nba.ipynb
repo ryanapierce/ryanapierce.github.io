{
 "metadata": {
  "language_info": {
   "codemirror_mode": {
    "name": "ipython",
    "version": 3
   },
   "file_extension": ".py",
   "mimetype": "text/x-python",
   "name": "python",
   "nbconvert_exporter": "python",
   "pygments_lexer": "ipython3",
   "version": "3.9.4"
  },
  "orig_nbformat": 4,
  "kernelspec": {
   "name": "python3",
   "display_name": "Python 3.9.4 64-bit"
  },
  "interpreter": {
   "hash": "aee8b7b246df8f9039afb4144a1f6fd8d2ca17a180786b69acc140d282b71a49"
  }
 },
 "nbformat": 4,
 "nbformat_minor": 2,
 "cells": [
  {
   "cell_type": "code",
   "execution_count": 9,
   "source": [
    "import pandas as pd\n",
    "from basketball_reference_scraper.players import get_stats\n",
    "\n",
    "s = get_stats('Lebron James', stat_type='PER_GAME', playoffs=False, career=False, ask_matches=False)\n",
    "print(s)"
   ],
   "outputs": [
    {
     "output_type": "stream",
     "name": "stdout",
     "text": [
      "     SEASON   AGE TEAM LEAGUE POS     G    GS    MP    FG   FGA  ...    FT%  \\\n",
      "0   2003-04  19.0  CLE    NBA  SG  79.0  79.0  39.5   7.9  18.9  ...  0.754   \n",
      "1   2004-05  20.0  CLE    NBA  SF  80.0  80.0  42.4   9.9  21.1  ...  0.750   \n",
      "2   2005-06  21.0  CLE    NBA  SF  79.0  79.0  42.5  11.1  23.1  ...  0.738   \n",
      "3   2006-07  22.0  CLE    NBA  SF  78.0  78.0  40.9   9.9  20.8  ...  0.698   \n",
      "4   2007-08  23.0  CLE    NBA  SF  75.0  74.0  40.4  10.6  21.9  ...  0.712   \n",
      "5   2008-09  24.0  CLE    NBA  SF  81.0  81.0  37.7   9.7  19.9  ...  0.780   \n",
      "6   2009-10  25.0  CLE    NBA  SF  76.0  76.0  39.0  10.1  20.1  ...  0.767   \n",
      "7   2010-11  26.0  MIA    NBA  SF  79.0  79.0  38.8   9.6  18.8  ...  0.759   \n",
      "8   2011-12  27.0  MIA    NBA  SF  62.0  62.0  37.5  10.0  18.9  ...  0.771   \n",
      "9   2012-13  28.0  MIA    NBA  PF  76.0  76.0  37.9  10.1  17.8  ...  0.753   \n",
      "10  2013-14  29.0  MIA    NBA  PF  77.0  77.0  37.7  10.0  17.6  ...  0.750   \n",
      "11  2014-15  30.0  CLE    NBA  SF  69.0  69.0  36.1   9.0  18.5  ...  0.710   \n",
      "12  2015-16  31.0  CLE    NBA  SF  76.0  76.0  35.6   9.7  18.6  ...  0.731   \n",
      "13  2016-17  32.0  CLE    NBA  SF  74.0  74.0  37.8   9.9  18.2  ...  0.674   \n",
      "14  2017-18  33.0  CLE    NBA  PF  82.0  82.0  36.9  10.5  19.3  ...  0.731   \n",
      "15  2018-19  34.0  LAL    NBA  SF  55.0  55.0  35.2  10.1  19.9  ...  0.665   \n",
      "16  2019-20  35.0  LAL    NBA  PG  67.0  67.0  34.6   9.6  19.4  ...  0.693   \n",
      "17  2020-21  36.0  LAL    NBA  PG  45.0  45.0  33.4   9.4  18.3  ...  0.698   \n",
      "\n",
      "    ORB  DRB  TRB   AST  STL  BLK  TOV   PF   PTS  \n",
      "0   1.3  4.2  5.5   5.9  1.6  0.7  3.5  1.9  20.9  \n",
      "1   1.4  6.0  7.4   7.2  2.2  0.7  3.3  1.8  27.2  \n",
      "2   0.9  6.1  7.0   6.6  1.6  0.8  3.3  2.3  31.4  \n",
      "3   1.1  5.7  6.7   6.0  1.6  0.7  3.2  2.2  27.3  \n",
      "4   1.8  6.1  7.9   7.2  1.8  1.1  3.4  2.2  30.0  \n",
      "5   1.3  6.3  7.6   7.2  1.7  1.1  3.0  1.7  28.4  \n",
      "6   0.9  6.4  7.3   8.6  1.6  1.0  3.4  1.6  29.7  \n",
      "7   1.0  6.5  7.5   7.0  1.6  0.6  3.6  2.1  26.7  \n",
      "8   1.5  6.4  7.9   6.2  1.9  0.8  3.4  1.5  27.1  \n",
      "9   1.3  6.8  8.0   7.3  1.7  0.9  3.0  1.4  26.8  \n",
      "10  1.1  5.9  6.9   6.3  1.6  0.3  3.5  1.6  27.1  \n",
      "11  0.7  5.3  6.0   7.4  1.6  0.7  3.9  2.0  25.3  \n",
      "12  1.5  6.0  7.4   6.8  1.4  0.6  3.3  1.9  25.3  \n",
      "13  1.3  7.3  8.6   8.7  1.2  0.6  4.1  1.8  26.4  \n",
      "14  1.2  7.5  8.6   9.1  1.4  0.9  4.2  1.7  27.5  \n",
      "15  1.0  7.4  8.5   8.3  1.3  0.6  3.6  1.7  27.4  \n",
      "16  1.0  6.9  7.8  10.2  1.2  0.5  3.9  1.8  25.3  \n",
      "17  0.6  7.0  7.7   7.8  1.1  0.6  3.7  1.6  25.0  \n",
      "\n",
      "[18 rows x 30 columns]\n"
     ]
    }
   ],
   "metadata": {}
  },
  {
   "cell_type": "code",
   "execution_count": 10,
   "source": [
    "username = input(\"Enter username:\")\n",
    "print(\"Username is: \" + username)"
   ],
   "outputs": [
    {
     "output_type": "stream",
     "name": "stdout",
     "text": [
      "Username is: \n"
     ]
    }
   ],
   "metadata": {}
  }
 ]
}